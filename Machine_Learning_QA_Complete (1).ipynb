{
  "cells": [
    {
      "cell_type": "markdown",
      "id": "7421bbc4",
      "metadata": {
        "id": "7421bbc4"
      },
      "source": [
        "Q1 What is a Parameter?\n",
        "\n",
        "A **parameter** is an internal variable in a model that the algorithm learns from data during training.\n",
        "\n",
        "Example:\n",
        "- In Linear Regression → `y = mx + c`, the parameters are `m` (slope) and `c` (intercept).\n",
        "- In Neural Networks → weights and biases are parameters.\n"
      ]
    },
    {
      "cell_type": "markdown",
      "id": "21a3a36d",
      "metadata": {
        "id": "21a3a36d"
      },
      "source": [
        "Q2 What is Correlation?\n",
        "\n",
        "**Correlation** measures how two numerical variables move together.\n",
        "\n",
        "- Range: `-1 ≤ r ≤ +1`\n",
        "- `+1`: Perfect positive correlation\n",
        "- `0`: No correlation\n",
        "- `-1`: Perfect negative correlation\n"
      ]
    },
    {
      "cell_type": "markdown",
      "id": "f41694e4",
      "metadata": {
        "id": "f41694e4"
      },
      "source": [
        "Q2 What does Negative Correlation mean?\n",
        "\n",
        "A negative correlation means that as one variable increases, the other decreases.\n",
        "\n",
        "Example: As price increases, demand decreases.\n"
      ]
    },
    {
      "cell_type": "markdown",
      "id": "8dacc3b6",
      "metadata": {
        "id": "8dacc3b6"
      },
      "source": [
        "Q3 Define Machine Learning. What are the main components in Machine Learning?\n",
        "\n",
        "Machine Learning (ML) is a branch of AI where computers learn from data without being explicitly programmed.\n",
        "\n",
        "Main Components:\n",
        "1. Data\n",
        "2. Model\n",
        "3. Parameters\n",
        "4. Loss Function\n",
        "5. Optimizer\n",
        "6. Evaluation Metrics\n"
      ]
    },
    {
      "cell_type": "markdown",
      "id": "b7625970",
      "metadata": {
        "id": "b7625970"
      },
      "source": [
        "Q4 How does loss value help in determining whether the model is good or not?\n",
        "\n",
        "- Loss quantifies the difference between predicted and actual values.\n",
        "- Lower loss = better performance.\n",
        "- High training loss → underfitting; low training but high validation loss → overfitting.\n"
      ]
    },
    {
      "cell_type": "markdown",
      "id": "64c1d096",
      "metadata": {
        "id": "64c1d096"
      },
      "source": [
        "Example: Calculate MSE loss\n",
        "\n",
        "```python\n",
        "from sklearn.metrics import mean_squared_error\n",
        "y_true = [3, 5, 7]\n",
        "y_pred = [2.8, 5.2, 7.1]\n",
        "print(mean_squared_error(y_true, y_pred))\n",
        "```\n"
      ]
    },
    {
      "cell_type": "markdown",
      "id": "298b5b98",
      "metadata": {
        "id": "298b5b98"
      },
      "source": [
        "Q5 What are Continuous and Categorical Variables?\n",
        "\n",
        "| Type | Description | Example |\n",
        "|------|--------------|----------|\n",
        "| **Continuous** | Numeric values | Height, Salary |\n",
        "| **Categorical** | Represent groups | Gender, City |\n"
      ]
    },
    {
      "cell_type": "markdown",
      "id": "6227e3b0",
      "metadata": {
        "id": "6227e3b0"
      },
      "source": [
        "Q6 How do we handle categorical variables in Machine Learning? What are the common techniques?\n",
        "\n",
        "Common techniques:\n",
        "1. Label Encoding\n",
        "2. One-Hot Encoding\n",
        "3. Target Encoding\n",
        "\n",
        "\n"
      ]
    },
    {
      "cell_type": "code",
      "source": [
        "import pandas as pd\n",
        "from sklearn.preprocessing import LabelEncoder\n",
        "\n",
        "df = pd.DataFrame({'Color': ['Red', 'Blue', 'Green']})\n",
        "le = LabelEncoder()\n",
        "df['Label'] = le.fit_transform(df['Color'])\n",
        "print(df)"
      ],
      "metadata": {
        "colab": {
          "base_uri": "https://localhost:8080/"
        },
        "id": "gn6i4t8LQ-aa",
        "outputId": "9c33e8a5-21a0-4c49-dfd8-92b9629b01e3"
      },
      "id": "gn6i4t8LQ-aa",
      "execution_count": 1,
      "outputs": [
        {
          "output_type": "stream",
          "name": "stdout",
          "text": [
            "   Color  Label\n",
            "0    Red      2\n",
            "1   Blue      0\n",
            "2  Green      1\n"
          ]
        }
      ]
    },
    {
      "cell_type": "markdown",
      "id": "1f345543",
      "metadata": {
        "id": "1f345543"
      },
      "source": [
        "Q7 What do you mean by training and testing a dataset?\n",
        "\n",
        "- Training dataset: Used to train the model.\n",
        "- Testing dataset: Used to evaluate performance on unseen data.\n"
      ]
    },
    {
      "cell_type": "markdown",
      "id": "7bfea055",
      "metadata": {
        "id": "7bfea055"
      },
      "source": [
        "Q8 What is sklearn.preprocessing?\n",
        "\n",
        "`sklearn.preprocessing` is a module for transforming data — scaling, encoding, normalization, etc.\n"
      ]
    },
    {
      "cell_type": "markdown",
      "id": "94550b3a",
      "metadata": {
        "id": "94550b3a"
      },
      "source": [
        "Q9 What is a Test set?\n",
        "\n",
        "A test set is the portion of data reserved for final evaluation to check generalization performance.\n"
      ]
    },
    {
      "cell_type": "markdown",
      "id": "3e30803b",
      "metadata": {
        "id": "3e30803b"
      },
      "source": [
        "Q10 How do we split data for model fitting (training and testing) in Python?\n",
        "\n",
        "\n"
      ]
    },
    {
      "cell_type": "code",
      "source": [
        "from sklearn.model_selection import train_test_split\n",
        "X_train, X_test, y_train, y_test = train_test_split(X, y, test_size=0.2, random_state=42)"
      ],
      "metadata": {
        "colab": {
          "base_uri": "https://localhost:8080/",
          "height": 158
        },
        "id": "chCQRGCgRhdr",
        "outputId": "24b89a87-3d6d-401c-a2af-1b4197552477"
      },
      "id": "chCQRGCgRhdr",
      "execution_count": 2,
      "outputs": [
        {
          "output_type": "error",
          "ename": "NameError",
          "evalue": "name 'X' is not defined",
          "traceback": [
            "\u001b[0;31m---------------------------------------------------------------------------\u001b[0m",
            "\u001b[0;31mNameError\u001b[0m                                 Traceback (most recent call last)",
            "\u001b[0;32m/tmp/ipython-input-96098206.py\u001b[0m in \u001b[0;36m<cell line: 0>\u001b[0;34m()\u001b[0m\n\u001b[1;32m      1\u001b[0m \u001b[0;32mfrom\u001b[0m \u001b[0msklearn\u001b[0m\u001b[0;34m.\u001b[0m\u001b[0mmodel_selection\u001b[0m \u001b[0;32mimport\u001b[0m \u001b[0mtrain_test_split\u001b[0m\u001b[0;34m\u001b[0m\u001b[0;34m\u001b[0m\u001b[0m\n\u001b[0;32m----> 2\u001b[0;31m \u001b[0mX_train\u001b[0m\u001b[0;34m,\u001b[0m \u001b[0mX_test\u001b[0m\u001b[0;34m,\u001b[0m \u001b[0my_train\u001b[0m\u001b[0;34m,\u001b[0m \u001b[0my_test\u001b[0m \u001b[0;34m=\u001b[0m \u001b[0mtrain_test_split\u001b[0m\u001b[0;34m(\u001b[0m\u001b[0mX\u001b[0m\u001b[0;34m,\u001b[0m \u001b[0my\u001b[0m\u001b[0;34m,\u001b[0m \u001b[0mtest_size\u001b[0m\u001b[0;34m=\u001b[0m\u001b[0;36m0.2\u001b[0m\u001b[0;34m,\u001b[0m \u001b[0mrandom_state\u001b[0m\u001b[0;34m=\u001b[0m\u001b[0;36m42\u001b[0m\u001b[0;34m)\u001b[0m\u001b[0;34m\u001b[0m\u001b[0;34m\u001b[0m\u001b[0m\n\u001b[0m",
            "\u001b[0;31mNameError\u001b[0m: name 'X' is not defined"
          ]
        }
      ]
    },
    {
      "cell_type": "markdown",
      "id": "d03fec41",
      "metadata": {
        "id": "d03fec41"
      },
      "source": [
        "Q10 How do you approach a Machine Learning problem?\n",
        "\n",
        "1. Understand the problem\n",
        "2. Collect & clean data\n",
        "3. Perform EDA\n",
        "4. Preprocess (encode, scale)\n",
        "5. Split data\n",
        "6. Choose model\n",
        "7. Train & evaluate\n",
        "8. Tune hyperparameters\n",
        "9. Test & deploy\n"
      ]
    },
    {
      "cell_type": "markdown",
      "id": "ddd14d5c",
      "metadata": {
        "id": "ddd14d5c"
      },
      "source": [
        "Q11 Why do we have to perform EDA before fitting a model to the data?\n",
        "\n",
        "EDA helps to:\n",
        "- Detect missing/outlier values\n",
        "- Understand distributions\n",
        "- Identify correlations\n",
        "- Prevent data leakage\n"
      ]
    },
    {
      "cell_type": "markdown",
      "source": [
        "Q12 What is correlation?\n",
        "\n",
        "Correlation is a statistical measure that describes the strength and direction of a relationship between two (or more) variables.\n",
        "\n",
        "In simple terms, it tells you how changes in one variable are associated with changes in another."
      ],
      "metadata": {
        "id": "DakqFBipXaJt"
      },
      "id": "DakqFBipXaJt"
    },
    {
      "cell_type": "markdown",
      "source": [
        "Q13 What does negative correlation mean?\n",
        "\n",
        "Negative Correlation: A relationship where one variable increases while the other decreases (r between -1 and 0). Example: Temperature ↑ → Heating bills ↓\n",
        "\n",
        "\n",
        "Meaning: When one variable increases, the other decreases.\n",
        "\n",
        "Direction: Opposite movement between variables.\n",
        "\n",
        "Correlation Coefficient (r): Between -1 and 0.\n",
        "\n",
        "Example: Temperature ↑ → Heating bills ↓."
      ],
      "metadata": {
        "id": "BETvL0jWXi3J"
      },
      "id": "BETvL0jWXi3J"
    },
    {
      "cell_type": "markdown",
      "id": "847f5c56",
      "metadata": {
        "id": "847f5c56"
      },
      "source": [
        "Q14  How can you find correlation between variables in Python?\n",
        "\n",
        "\n"
      ]
    },
    {
      "cell_type": "code",
      "source": [
        "import pandas as pd\n",
        "\n",
        "data = pd.DataFrame({'A':[1,2,3,4],'B':[2,4,6,8]})\n",
        "print(data.corr())"
      ],
      "metadata": {
        "colab": {
          "base_uri": "https://localhost:8080/"
        },
        "id": "leYgu0xuR14Y",
        "outputId": "530be481-3b94-4178-9882-e45fd1fdf455"
      },
      "id": "leYgu0xuR14Y",
      "execution_count": 3,
      "outputs": [
        {
          "output_type": "stream",
          "name": "stdout",
          "text": [
            "     A    B\n",
            "A  1.0  1.0\n",
            "B  1.0  1.0\n"
          ]
        }
      ]
    },
    {
      "cell_type": "markdown",
      "id": "bf313252",
      "metadata": {
        "id": "bf313252"
      },
      "source": [
        "Q15  What is Causation? Explain difference between correlation and causation with an example.\n",
        "\n",
        "- Correlation:Two variables move together.\n",
        "- Causation:One variable causes change in another.\n",
        "\n",
        "Example:\n",
        "Ice cream sales and drowning are correlated due to hot weather (common cause), but ice cream doesn’t cause drowning.\n"
      ]
    },
    {
      "cell_type": "markdown",
      "id": "768b099a",
      "metadata": {
        "id": "768b099a"
      },
      "source": [
        "Q16  What is an Optimizer? What are different types of optimizers? Explain each with an example.\n",
        "\n",
        "An optimizer updates model parameters to minimize loss.\n",
        "\n",
        "| Optimizer | Description |\n",
        "|------------|-------------|\n",
        "| SGD | Updates weights using gradient descent |\n",
        "| Momentum | Adds inertia to updates |\n",
        "| RMSProp | Adjusts learning rate adaptively |\n",
        "| Adam | Combines RMSProp + Momentum |\n",
        "\n",
        "Example (PyTorch):\n",
        "\n",
        "    optimizer = torch.optim.Adam(model.parameters(), lr=0.001)\n"
      ]
    },
    {
      "cell_type": "markdown",
      "id": "a1c7450a",
      "metadata": {
        "id": "a1c7450a"
      },
      "source": [
        "Q17 What is sklearn.linear_model ?\n",
        "\n",
        "Contains linear models like:\n",
        "- `LinearRegression`\n",
        "- `LogisticRegression`\n",
        "- `Ridge`, `Lasso`, etc.\n",
        "\n",
        "```python\n",
        "from sklearn.linear_model import LinearRegression\n",
        "model = LinearRegression()\n",
        "```\n"
      ]
    },
    {
      "cell_type": "markdown",
      "id": "f375959d",
      "metadata": {
        "id": "f375959d"
      },
      "source": [
        "Q18 What does model.fit() do? What arguments must be given?\n",
        "\n",
        "- Fits/trains the model on the training data.\n",
        "- Arguments: `X_train`, `y_train`\n"
      ]
    },
    {
      "cell_type": "markdown",
      "id": "cf775c64",
      "metadata": {
        "id": "cf775c64"
      },
      "source": [
        "Q19 What does model.predict() do? What arguments must be given?\n",
        "\n",
        "- Predicts output using trained model.\n",
        "- Argument: `X_test`\n"
      ]
    },
    {
      "cell_type": "markdown",
      "source": [
        "Q20 What are continuous and categorical variables?\n",
        "\n",
        "1.Continuous Variables:\n",
        "\n",
        "Can take any numerical value within a range.\n",
        "\n",
        "Have measurable quantities (can be decimals or fractions).\n",
        "\n",
        "Examples: Height, weight, temperature, time, income.\n",
        "\n",
        "2.Categorical Variables:\n",
        "\n",
        "Represent groups or categories, not numerical values.\n",
        "\n",
        "Can be nominal (no order) or ordinal (ordered categories).\n",
        "\n",
        "Examples: Gender, blood type, color, education level.\n",
        "\n",
        "In short:\n",
        "\n",
        "Continuous = measurable numbers\n",
        "\n",
        "Categorical = names or labels"
      ],
      "metadata": {
        "id": "I02tPie2YUgj"
      },
      "id": "I02tPie2YUgj"
    },
    {
      "cell_type": "markdown",
      "id": "fb728d97",
      "metadata": {
        "id": "fb728d97"
      },
      "source": [
        "Q21  What is Feature Scaling? How does it help in Machine Learning?\n",
        "\n",
        "Feature scaling normalizes features to similar ranges.\n",
        "Helps speed up convergence and improve accuracy.\n",
        "\n",
        "    from sklearn.preprocessing import StandardScaler\n",
        "    scaler = StandardScaler()\n",
        "    X_scaled = scaler.fit_transform(X)\n",
        "\n"
      ]
    },
    {
      "cell_type": "markdown",
      "id": "39426777",
      "metadata": {
        "id": "39426777"
      },
      "source": [
        "Q22 How do we perform scaling in Python?\n",
        "\n",
        "\n"
      ]
    },
    {
      "cell_type": "code",
      "source": [
        "import pandas as pd\n",
        "from sklearn.preprocessing import MinMaxScaler\n",
        "\n",
        "\n",
        "data = {\n",
        "    'Age': [18, 25, 30, 45, 50],\n",
        "    'Salary': [20000, 35000, 40000, 60000, 80000]\n",
        "}\n",
        "\n",
        "X = pd.DataFrame(data)\n",
        "scaler = MinMaxScaler()\n",
        "X_scaled = scaler.fit_transform(X)\n",
        "\n",
        "X_scaled = pd.DataFrame(X_scaled, columns=X.columns)\n",
        "print(X_scaled)\n"
      ],
      "metadata": {
        "colab": {
          "base_uri": "https://localhost:8080/"
        },
        "id": "Ne_WmFjWYoZp",
        "outputId": "887ddc34-6f22-495f-be05-4643f1b4c748"
      },
      "id": "Ne_WmFjWYoZp",
      "execution_count": 3,
      "outputs": [
        {
          "output_type": "stream",
          "name": "stdout",
          "text": [
            "       Age    Salary\n",
            "0  0.00000  0.000000\n",
            "1  0.21875  0.250000\n",
            "2  0.37500  0.333333\n",
            "3  0.84375  0.666667\n",
            "4  1.00000  1.000000\n"
          ]
        }
      ]
    },
    {
      "cell_type": "markdown",
      "source": [
        "Q23 What is sklearn.preprocessing?\n",
        "\n",
        "sklearn.preprocessing is a module in Scikit-learn (sklearn) that provides tools for data preprocessing — the step where you prepare raw data before feeding it into a machine learning model.\n"
      ],
      "metadata": {
        "id": "eTKAKJh4ZDBs"
      },
      "id": "eTKAKJh4ZDBs"
    },
    {
      "cell_type": "code",
      "source": [
        "from sklearn.preprocessing import MinMaxScaler\n",
        "import pandas as pd\n",
        "\n",
        "X = pd.DataFrame({'Age': [18, 25, 30, 45], 'Salary': [20000, 35000, 60000, 80000]})\n",
        "\n",
        "scaler = MinMaxScaler()\n",
        "X_scaled = scaler.fit_transform(X)\n",
        "\n",
        "print(X_scaled)\n"
      ],
      "metadata": {
        "colab": {
          "base_uri": "https://localhost:8080/"
        },
        "id": "YoHiMEjAZfA0",
        "outputId": "229b07c3-c092-40f1-d9fb-93e7ec68f1fe"
      },
      "id": "YoHiMEjAZfA0",
      "execution_count": 4,
      "outputs": [
        {
          "output_type": "stream",
          "name": "stdout",
          "text": [
            "[[0.         0.        ]\n",
            " [0.25925926 0.25      ]\n",
            " [0.44444444 0.66666667]\n",
            " [1.         1.        ]]\n"
          ]
        }
      ]
    },
    {
      "cell_type": "markdown",
      "source": [
        "Q24 How do we split data for model fitting (training and testing) in Python?\n",
        "\n",
        "To split data into training and testing sets in Python, you typically use the train_test_split function from sklearn.model_selection.\n",
        "\n",
        "This helps evaluate how well your machine learning model performs on unseen (test) data."
      ],
      "metadata": {
        "id": "Vs8L9TXvZkSI"
      },
      "id": "Vs8L9TXvZkSI"
    },
    {
      "cell_type": "code",
      "source": [
        "from sklearn.model_selection import train_test_split\n",
        "import pandas as pd\n",
        "\n",
        "# Sample data\n",
        "X = pd.DataFrame({'feature': [1, 2, 3, 4, 5]})\n",
        "y = pd.Series([0, 1, 0, 1, 0])\n",
        "\n",
        "X_train, X_test, y_train, y_test = train_test_split(X, y, test_size=0.2, random_state=42)\n",
        "\n",
        "print(X_train)\n",
        "print(y_train)\n",
        "\n"
      ],
      "metadata": {
        "colab": {
          "base_uri": "https://localhost:8080/"
        },
        "id": "ZYzRbN3dZyhp",
        "outputId": "da1bfaa2-045d-4897-a3d3-48e99e09fdd3"
      },
      "id": "ZYzRbN3dZyhp",
      "execution_count": 6,
      "outputs": [
        {
          "output_type": "stream",
          "name": "stdout",
          "text": [
            "   feature\n",
            "4        5\n",
            "2        3\n",
            "0        1\n",
            "3        4\n",
            "4    0\n",
            "2    0\n",
            "0    0\n",
            "3    1\n",
            "dtype: int64\n"
          ]
        }
      ]
    },
    {
      "cell_type": "markdown",
      "id": "c8af30a1",
      "metadata": {
        "id": "c8af30a1"
      },
      "source": [
        "Q25 Explain Data Encoding\n",
        "\n",
        "**Data Encoding** converts text/categorical data into numeric format.\n",
        "\n",
        "- Label Encoding\n",
        "- One-Hot Encoding\n",
        "- Binary/Hash Encoding\n",
        "```python\n",
        "pd.get_dummies(df['Category'])\n",
        "```\n"
      ]
    }
  ],
  "metadata": {
    "colab": {
      "provenance": []
    },
    "language_info": {
      "name": "python"
    },
    "kernelspec": {
      "name": "python3",
      "display_name": "Python 3"
    }
  },
  "nbformat": 4,
  "nbformat_minor": 5
}